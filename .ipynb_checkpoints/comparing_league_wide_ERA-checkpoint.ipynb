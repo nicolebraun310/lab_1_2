{
 "cells": [
  {
   "cell_type": "code",
   "execution_count": 8,
   "id": "9a1dfef1-85d2-47d3-9312-4aac9d66d5a6",
   "metadata": {},
   "outputs": [],
   "source": [
    "import polars as pl"
   ]
  },
  {
   "cell_type": "code",
   "execution_count": 9,
   "id": "9376ce1b-ad06-4c6c-84b6-f23af66e54f1",
   "metadata": {},
   "outputs": [
    {
     "data": {
      "text/html": [
       "<div><style>\n",
       ".dataframe > thead > tr,\n",
       ".dataframe > tbody > tr {\n",
       "  text-align: right;\n",
       "  white-space: pre-wrap;\n",
       "}\n",
       "</style>\n",
       "<small>shape: (52_344, 30)</small><table border=\"1\" class=\"dataframe\"><thead><tr><th>playerID</th><th>yearID</th><th>stint</th><th>teamID</th><th>lgID</th><th>W</th><th>L</th><th>G</th><th>GS</th><th>CG</th><th>SHO</th><th>SV</th><th>IPouts</th><th>H</th><th>ER</th><th>HR</th><th>BB</th><th>SO</th><th>BAOpp</th><th>ERA</th><th>IBB</th><th>WP</th><th>HBP</th><th>BK</th><th>BFP</th><th>GF</th><th>R</th><th>SH</th><th>SF</th><th>GIDP</th></tr><tr><td>str</td><td>i64</td><td>i64</td><td>str</td><td>str</td><td>i64</td><td>i64</td><td>i64</td><td>i64</td><td>i64</td><td>i64</td><td>i64</td><td>i64</td><td>i64</td><td>i64</td><td>i64</td><td>i64</td><td>i64</td><td>f64</td><td>f64</td><td>i64</td><td>i64</td><td>i64</td><td>i64</td><td>i64</td><td>i64</td><td>i64</td><td>i64</td><td>i64</td><td>i64</td></tr></thead><tbody><tr><td>&quot;aardsda01&quot;</td><td>2004</td><td>1</td><td>&quot;SFN&quot;</td><td>&quot;NL&quot;</td><td>1</td><td>0</td><td>11</td><td>0</td><td>0</td><td>0</td><td>0</td><td>32</td><td>20</td><td>8</td><td>1</td><td>10</td><td>5</td><td>0.417</td><td>6.75</td><td>0</td><td>0</td><td>2</td><td>0</td><td>61</td><td>5</td><td>8</td><td>0</td><td>1</td><td>1</td></tr><tr><td>&quot;aardsda01&quot;</td><td>2006</td><td>1</td><td>&quot;CHN&quot;</td><td>&quot;NL&quot;</td><td>3</td><td>0</td><td>45</td><td>0</td><td>0</td><td>0</td><td>0</td><td>159</td><td>41</td><td>24</td><td>9</td><td>28</td><td>49</td><td>0.214</td><td>4.08</td><td>0</td><td>1</td><td>1</td><td>0</td><td>225</td><td>9</td><td>25</td><td>1</td><td>3</td><td>2</td></tr><tr><td>&quot;aardsda01&quot;</td><td>2007</td><td>1</td><td>&quot;CHA&quot;</td><td>&quot;AL&quot;</td><td>2</td><td>1</td><td>25</td><td>0</td><td>0</td><td>0</td><td>0</td><td>97</td><td>39</td><td>23</td><td>4</td><td>17</td><td>36</td><td>0.3</td><td>6.4</td><td>3</td><td>2</td><td>1</td><td>0</td><td>151</td><td>7</td><td>24</td><td>2</td><td>1</td><td>1</td></tr><tr><td>&quot;aardsda01&quot;</td><td>2008</td><td>1</td><td>&quot;BOS&quot;</td><td>&quot;AL&quot;</td><td>4</td><td>2</td><td>47</td><td>0</td><td>0</td><td>0</td><td>0</td><td>146</td><td>49</td><td>30</td><td>4</td><td>35</td><td>49</td><td>0.268</td><td>5.55</td><td>2</td><td>3</td><td>5</td><td>0</td><td>228</td><td>7</td><td>32</td><td>3</td><td>2</td><td>4</td></tr><tr><td>&quot;aardsda01&quot;</td><td>2009</td><td>1</td><td>&quot;SEA&quot;</td><td>&quot;AL&quot;</td><td>3</td><td>6</td><td>73</td><td>0</td><td>0</td><td>0</td><td>38</td><td>214</td><td>49</td><td>20</td><td>4</td><td>34</td><td>80</td><td>0.19</td><td>2.52</td><td>3</td><td>2</td><td>0</td><td>0</td><td>296</td><td>53</td><td>23</td><td>2</td><td>1</td><td>2</td></tr><tr><td>&hellip;</td><td>&hellip;</td><td>&hellip;</td><td>&hellip;</td><td>&hellip;</td><td>&hellip;</td><td>&hellip;</td><td>&hellip;</td><td>&hellip;</td><td>&hellip;</td><td>&hellip;</td><td>&hellip;</td><td>&hellip;</td><td>&hellip;</td><td>&hellip;</td><td>&hellip;</td><td>&hellip;</td><td>&hellip;</td><td>&hellip;</td><td>&hellip;</td><td>&hellip;</td><td>&hellip;</td><td>&hellip;</td><td>&hellip;</td><td>&hellip;</td><td>&hellip;</td><td>&hellip;</td><td>&hellip;</td><td>&hellip;</td><td>&hellip;</td></tr><tr><td>&quot;zuverge01&quot;</td><td>1958</td><td>1</td><td>&quot;BAL&quot;</td><td>&quot;AL&quot;</td><td>2</td><td>2</td><td>45</td><td>0</td><td>0</td><td>0</td><td>7</td><td>207</td><td>74</td><td>26</td><td>4</td><td>17</td><td>22</td><td>0.28</td><td>3.39</td><td>3</td><td>2</td><td>6</td><td>0</td><td>294</td><td>23</td><td>29</td><td>null</td><td>null</td><td>null</td></tr><tr><td>&quot;zuverge01&quot;</td><td>1959</td><td>1</td><td>&quot;BAL&quot;</td><td>&quot;AL&quot;</td><td>0</td><td>1</td><td>6</td><td>0</td><td>0</td><td>0</td><td>0</td><td>39</td><td>15</td><td>6</td><td>1</td><td>6</td><td>1</td><td>0.3</td><td>4.15</td><td>0</td><td>1</td><td>0</td><td>0</td><td>55</td><td>1</td><td>7</td><td>null</td><td>null</td><td>null</td></tr><tr><td>&quot;zychto01&quot;</td><td>2015</td><td>1</td><td>&quot;SEA&quot;</td><td>&quot;AL&quot;</td><td>0</td><td>0</td><td>13</td><td>1</td><td>0</td><td>0</td><td>0</td><td>55</td><td>17</td><td>5</td><td>1</td><td>3</td><td>24</td><td>0.239</td><td>2.45</td><td>0</td><td>1</td><td>2</td><td>0</td><td>76</td><td>4</td><td>6</td><td>0</td><td>0</td><td>0</td></tr><tr><td>&quot;zychto01&quot;</td><td>2016</td><td>1</td><td>&quot;SEA&quot;</td><td>&quot;AL&quot;</td><td>1</td><td>0</td><td>12</td><td>0</td><td>0</td><td>0</td><td>0</td><td>41</td><td>10</td><td>5</td><td>0</td><td>10</td><td>21</td><td>0.208</td><td>3.29</td><td>2</td><td>0</td><td>1</td><td>0</td><td>60</td><td>3</td><td>6</td><td>0</td><td>1</td><td>1</td></tr><tr><td>&quot;zychto01&quot;</td><td>2017</td><td>1</td><td>&quot;SEA&quot;</td><td>&quot;AL&quot;</td><td>6</td><td>3</td><td>45</td><td>0</td><td>0</td><td>0</td><td>1</td><td>122</td><td>30</td><td>12</td><td>2</td><td>21</td><td>35</td><td>0.208</td><td>2.66</td><td>3</td><td>1</td><td>5</td><td>1</td><td>173</td><td>7</td><td>12</td><td>1</td><td>2</td><td>5</td></tr></tbody></table></div>"
      ],
      "text/plain": [
       "shape: (52_344, 30)\n",
       "┌───────────┬────────┬───────┬────────┬───┬─────┬──────┬──────┬──────┐\n",
       "│ playerID  ┆ yearID ┆ stint ┆ teamID ┆ … ┆ R   ┆ SH   ┆ SF   ┆ GIDP │\n",
       "│ ---       ┆ ---    ┆ ---   ┆ ---    ┆   ┆ --- ┆ ---  ┆ ---  ┆ ---  │\n",
       "│ str       ┆ i64    ┆ i64   ┆ str    ┆   ┆ i64 ┆ i64  ┆ i64  ┆ i64  │\n",
       "╞═══════════╪════════╪═══════╪════════╪═══╪═════╪══════╪══════╪══════╡\n",
       "│ aardsda01 ┆ 2004   ┆ 1     ┆ SFN    ┆ … ┆ 8   ┆ 0    ┆ 1    ┆ 1    │\n",
       "│ aardsda01 ┆ 2006   ┆ 1     ┆ CHN    ┆ … ┆ 25  ┆ 1    ┆ 3    ┆ 2    │\n",
       "│ aardsda01 ┆ 2007   ┆ 1     ┆ CHA    ┆ … ┆ 24  ┆ 2    ┆ 1    ┆ 1    │\n",
       "│ aardsda01 ┆ 2008   ┆ 1     ┆ BOS    ┆ … ┆ 32  ┆ 3    ┆ 2    ┆ 4    │\n",
       "│ aardsda01 ┆ 2009   ┆ 1     ┆ SEA    ┆ … ┆ 23  ┆ 2    ┆ 1    ┆ 2    │\n",
       "│ …         ┆ …      ┆ …     ┆ …      ┆ … ┆ …   ┆ …    ┆ …    ┆ …    │\n",
       "│ zuverge01 ┆ 1958   ┆ 1     ┆ BAL    ┆ … ┆ 29  ┆ null ┆ null ┆ null │\n",
       "│ zuverge01 ┆ 1959   ┆ 1     ┆ BAL    ┆ … ┆ 7   ┆ null ┆ null ┆ null │\n",
       "│ zychto01  ┆ 2015   ┆ 1     ┆ SEA    ┆ … ┆ 6   ┆ 0    ┆ 0    ┆ 0    │\n",
       "│ zychto01  ┆ 2016   ┆ 1     ┆ SEA    ┆ … ┆ 6   ┆ 0    ┆ 1    ┆ 1    │\n",
       "│ zychto01  ┆ 2017   ┆ 1     ┆ SEA    ┆ … ┆ 12  ┆ 1    ┆ 2    ┆ 5    │\n",
       "└───────────┴────────┴───────┴────────┴───┴─────┴──────┴──────┴──────┘"
      ]
     },
     "execution_count": 9,
     "metadata": {},
     "output_type": "execute_result"
    }
   ],
   "source": [
    "(pitching :=\n",
    " pl.read_csv('./data/lahman_1871-2024_csv/Pitching.csv')\n",
    ")\n",
    " "
   ]
  },
  {
   "cell_type": "code",
   "execution_count": 10,
   "id": "555244c8-e17f-4034-8f84-959984207b83",
   "metadata": {},
   "outputs": [],
   "source": [
    "import polars as pl\n",
    "pitching_ERA = (pitching\n",
    "    .filter(pl.col(\"yearID\") >= 1946)\n",
    "    .group_by(\"yearID\", \"lgID\")\n",
    "    .agg(\n",
    "        total_runs_allowed = pl.sum(\"R\"),\n",
    "        total_innings_pitched = pl.sum(\"IPouts\"),\n",
    "    )\n",
    "    .with_columns(\n",
    "        # add the ERA\n",
    "        league_wide_ERA = pl.col(\"total_runs_allowed\") / pl.col(\"total_innings_pitched\") * 27,\n",
    "        \n",
    "        # add the DH_rule column\n",
    "        DH_rule = pl.when((pl.col(\"lgID\") == \"AL\") & (pl.col(\"yearID\") >= 1973))\n",
    "            .then(pl.lit(\"DH\"))\n",
    "            .when((pl.col(\"lgID\") == \"NL\") & (pl.col(\"yearID\") >= 2022))\n",
    "            .then(pl.lit(\"DH\"))\n",
    "            .otherwise(pl.lit(\"No DH\"))\n",
    "    )\n",
    "    .drop(\"total_innings_pitched\", \"total_runs_allowed\")\n",
    ")"
   ]
  },
  {
   "cell_type": "code",
   "execution_count": 7,
   "id": "cf737ced-6f4e-475d-a470-bd8da33ae690",
   "metadata": {},
   "outputs": [],
   "source": [
    "pitching_ERA.write_csv(\"data/pitching_ERA.csv\")"
   ]
  },
  {
   "cell_type": "code",
   "execution_count": 14,
   "id": "e0312153-1c53-4c7a-86b4-78e7400fbe51",
   "metadata": {},
   "outputs": [
    {
     "name": "stdout",
     "output_type": "stream",
     "text": [
      "shape: (5, 24)\n",
      "┌───────────┬────────┬───────┬────────┬───┬─────┬─────┬──────┬───────┐\n",
      "│ playerID  ┆ yearID ┆ stint ┆ teamID ┆ … ┆ SH  ┆ SF  ┆ GIDP ┆ G_old │\n",
      "│ ---       ┆ ---    ┆ ---   ┆ ---    ┆   ┆ --- ┆ --- ┆ ---  ┆ ---   │\n",
      "│ str       ┆ i64    ┆ i64   ┆ str    ┆   ┆ i64 ┆ i64 ┆ i64  ┆ i64   │\n",
      "╞═══════════╪════════╪═══════╪════════╪═══╪═════╪═════╪══════╪═══════╡\n",
      "│ aardsda01 ┆ 2004   ┆ 1     ┆ SFN    ┆ … ┆ 0   ┆ 0   ┆ 0    ┆ null  │\n",
      "│ aardsda01 ┆ 2006   ┆ 1     ┆ CHN    ┆ … ┆ 1   ┆ 0   ┆ 0    ┆ null  │\n",
      "│ aardsda01 ┆ 2007   ┆ 1     ┆ CHA    ┆ … ┆ 0   ┆ 0   ┆ 0    ┆ null  │\n",
      "│ aardsda01 ┆ 2008   ┆ 1     ┆ BOS    ┆ … ┆ 0   ┆ 0   ┆ 0    ┆ null  │\n",
      "│ aardsda01 ┆ 2009   ┆ 1     ┆ SEA    ┆ … ┆ 0   ┆ 0   ┆ 0    ┆ null  │\n",
      "└───────────┴────────┴───────┴────────┴───┴─────┴─────┴──────┴───────┘\n"
     ]
    }
   ],
   "source": [
    "import polars as pl\n",
    "batting = pl.read_csv(\"data/lahman_1871-2024_csv/Batting.csv\")\n",
    "print(batting.head())"
   ]
  },
  {
   "cell_type": "code",
   "execution_count": 16,
   "id": "bd9c43a8-acae-4559-b455-29f0cdaff313",
   "metadata": {},
   "outputs": [],
   "source": [
    "batting_SLG = (batting\n",
    "               .filter(pl.col(\"yearID\") >= 1946)\n",
    "               .group_by(\"yearID\", \"lgID\")\n",
    "               .agg(\n",
    "                   total_bases = pl.sum(\"H\") + pl.sum(\"2B\") + (pl.sum(\"3B\") * 2) + (pl.sum(\"HR\")*3),\n",
    "                   total_at_bats = pl.sum(\"AB\"),\n",
    "               )\n",
    "               .with_columns(\n",
    "                   league_wide_SLG = pl.col(\"total_bases\") / pl.col(\"total_at_bats\"),\n",
    "                   DH_rule = pl.when((pl.col(\"lgID\") == \"AL\") & (pl.col(\"yearID\") >= 1973))\n",
    "                       .then(pl.lit(\"DH\"))\n",
    "                       .when((pl.col(\"lgID\") == \"NL\") & (pl.col(\"yearID\") >= 2022))\n",
    "                       .then(pl.lit(\"DH\"))\n",
    "                       .otherwise(pl.lit(\"No DH\"))\n",
    "               )\n",
    "               .drop(\"total_bases\", \"total_at_bats\")\n",
    "              )"
   ]
  },
  {
   "cell_type": "code",
   "execution_count": 17,
   "id": "2f907da8-3a08-47bf-9a69-77e7ab455de4",
   "metadata": {},
   "outputs": [
    {
     "name": "stdout",
     "output_type": "stream",
     "text": [
      "shape: (158, 4)\n",
      "┌────────┬──────┬─────────────────┬─────────┐\n",
      "│ yearID ┆ lgID ┆ league_wide_SLG ┆ DH_rule │\n",
      "│ ---    ┆ ---  ┆ ---             ┆ ---     │\n",
      "│ i64    ┆ str  ┆ f64             ┆ str     │\n",
      "╞════════╪══════╪═════════════════╪═════════╡\n",
      "│ 2021   ┆ NL   ┆ 0.406828        ┆ No DH   │\n",
      "│ 1973   ┆ NL   ┆ 0.375853        ┆ No DH   │\n",
      "│ 1988   ┆ AL   ┆ 0.390598        ┆ DH      │\n",
      "│ 1981   ┆ NL   ┆ 0.36393         ┆ No DH   │\n",
      "│ 2020   ┆ NL   ┆ 0.421171        ┆ No DH   │\n",
      "│ …      ┆ …    ┆ …               ┆ …       │\n",
      "│ 1992   ┆ AL   ┆ 0.385005        ┆ DH      │\n",
      "│ 1982   ┆ NL   ┆ 0.372682        ┆ No DH   │\n",
      "│ 1973   ┆ AL   ┆ 0.38145         ┆ DH      │\n",
      "│ 1972   ┆ NL   ┆ 0.364599        ┆ No DH   │\n",
      "│ 2005   ┆ NL   ┆ 0.414072        ┆ No DH   │\n",
      "└────────┴──────┴─────────────────┴─────────┘\n"
     ]
    }
   ],
   "source": [
    "print(batting_SLG)"
   ]
  },
  {
   "cell_type": "code",
   "execution_count": 18,
   "id": "a8572e33-6294-4c4f-a76e-131564d96fe5",
   "metadata": {},
   "outputs": [],
   "source": [
    "batting_SLG.write_csv(\"data/batting_SLG.csv\")"
   ]
  },
  {
   "cell_type": "code",
   "execution_count": null,
   "id": "4a6fca55-4417-42f9-a604-8cb04e8e4fab",
   "metadata": {},
   "outputs": [],
   "source": []
  }
 ],
 "metadata": {
  "kernelspec": {
   "display_name": "Python 3 (ipykernel)",
   "language": "python",
   "name": "python3"
  },
  "language_info": {
   "codemirror_mode": {
    "name": "ipython",
    "version": 3
   },
   "file_extension": ".py",
   "mimetype": "text/x-python",
   "name": "python",
   "nbconvert_exporter": "python",
   "pygments_lexer": "ipython3",
   "version": "3.13.5"
  }
 },
 "nbformat": 4,
 "nbformat_minor": 5
}
